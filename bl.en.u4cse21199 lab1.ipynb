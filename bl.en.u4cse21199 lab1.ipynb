{
 "cells": [
  {
   "cell_type": "code",
   "execution_count": 1,
   "id": "685bbd71-ec04-4d92-88aa-14146545330b",
   "metadata": {},
   "outputs": [
    {
     "data": {
      "text/html": [
       "<div>\n",
       "<style scoped>\n",
       "    .dataframe tbody tr th:only-of-type {\n",
       "        vertical-align: middle;\n",
       "    }\n",
       "\n",
       "    .dataframe tbody tr th {\n",
       "        vertical-align: top;\n",
       "    }\n",
       "\n",
       "    .dataframe thead th {\n",
       "        text-align: right;\n",
       "    }\n",
       "</style>\n",
       "<table border=\"1\" class=\"dataframe\">\n",
       "  <thead>\n",
       "    <tr style=\"text-align: right;\">\n",
       "      <th></th>\n",
       "      <th>Customer</th>\n",
       "      <th>Candies</th>\n",
       "      <th>Mangoes</th>\n",
       "      <th>Milk Packets</th>\n",
       "      <th>Payment</th>\n",
       "    </tr>\n",
       "  </thead>\n",
       "  <tbody>\n",
       "    <tr>\n",
       "      <th>0</th>\n",
       "      <td>C_1</td>\n",
       "      <td>20</td>\n",
       "      <td>6</td>\n",
       "      <td>2</td>\n",
       "      <td>386</td>\n",
       "    </tr>\n",
       "    <tr>\n",
       "      <th>1</th>\n",
       "      <td>C_2</td>\n",
       "      <td>16</td>\n",
       "      <td>3</td>\n",
       "      <td>6</td>\n",
       "      <td>289</td>\n",
       "    </tr>\n",
       "    <tr>\n",
       "      <th>2</th>\n",
       "      <td>C_3</td>\n",
       "      <td>27</td>\n",
       "      <td>6</td>\n",
       "      <td>2</td>\n",
       "      <td>393</td>\n",
       "    </tr>\n",
       "    <tr>\n",
       "      <th>3</th>\n",
       "      <td>C_4</td>\n",
       "      <td>19</td>\n",
       "      <td>1</td>\n",
       "      <td>2</td>\n",
       "      <td>110</td>\n",
       "    </tr>\n",
       "    <tr>\n",
       "      <th>4</th>\n",
       "      <td>C_5</td>\n",
       "      <td>24</td>\n",
       "      <td>4</td>\n",
       "      <td>2</td>\n",
       "      <td>280</td>\n",
       "    </tr>\n",
       "    <tr>\n",
       "      <th>5</th>\n",
       "      <td>C_6</td>\n",
       "      <td>22</td>\n",
       "      <td>1</td>\n",
       "      <td>5</td>\n",
       "      <td>167</td>\n",
       "    </tr>\n",
       "    <tr>\n",
       "      <th>6</th>\n",
       "      <td>C_7</td>\n",
       "      <td>15</td>\n",
       "      <td>4</td>\n",
       "      <td>2</td>\n",
       "      <td>271</td>\n",
       "    </tr>\n",
       "    <tr>\n",
       "      <th>7</th>\n",
       "      <td>C_8</td>\n",
       "      <td>18</td>\n",
       "      <td>4</td>\n",
       "      <td>2</td>\n",
       "      <td>274</td>\n",
       "    </tr>\n",
       "    <tr>\n",
       "      <th>8</th>\n",
       "      <td>C_9</td>\n",
       "      <td>21</td>\n",
       "      <td>1</td>\n",
       "      <td>4</td>\n",
       "      <td>148</td>\n",
       "    </tr>\n",
       "    <tr>\n",
       "      <th>9</th>\n",
       "      <td>C_10</td>\n",
       "      <td>16</td>\n",
       "      <td>2</td>\n",
       "      <td>4</td>\n",
       "      <td>198</td>\n",
       "    </tr>\n",
       "  </tbody>\n",
       "</table>\n",
       "</div>"
      ],
      "text/plain": [
       "  Customer  Candies  Mangoes  Milk Packets  Payment\n",
       "0      C_1       20        6             2      386\n",
       "1      C_2       16        3             6      289\n",
       "2      C_3       27        6             2      393\n",
       "3      C_4       19        1             2      110\n",
       "4      C_5       24        4             2      280\n",
       "5      C_6       22        1             5      167\n",
       "6      C_7       15        4             2      271\n",
       "7      C_8       18        4             2      274\n",
       "8      C_9       21        1             4      148\n",
       "9     C_10       16        2             4      198"
      ]
     },
     "execution_count": 1,
     "metadata": {},
     "output_type": "execute_result"
    }
   ],
   "source": [
    "import pandas as pd\n",
    "dat=pd.read_csv('book.csv')\n",
    "dat"
   ]
  },
  {
   "cell_type": "code",
   "execution_count": 2,
   "id": "32162941-6f04-466c-a545-6acc89a01285",
   "metadata": {},
   "outputs": [
    {
     "data": {
      "text/html": [
       "<div>\n",
       "<style scoped>\n",
       "    .dataframe tbody tr th:only-of-type {\n",
       "        vertical-align: middle;\n",
       "    }\n",
       "\n",
       "    .dataframe tbody tr th {\n",
       "        vertical-align: top;\n",
       "    }\n",
       "\n",
       "    .dataframe thead th {\n",
       "        text-align: right;\n",
       "    }\n",
       "</style>\n",
       "<table border=\"1\" class=\"dataframe\">\n",
       "  <thead>\n",
       "    <tr style=\"text-align: right;\">\n",
       "      <th></th>\n",
       "      <th>Candies</th>\n",
       "      <th>Mangoes</th>\n",
       "      <th>Milk Packets</th>\n",
       "    </tr>\n",
       "  </thead>\n",
       "  <tbody>\n",
       "    <tr>\n",
       "      <th>0</th>\n",
       "      <td>20</td>\n",
       "      <td>6</td>\n",
       "      <td>2</td>\n",
       "    </tr>\n",
       "    <tr>\n",
       "      <th>1</th>\n",
       "      <td>16</td>\n",
       "      <td>3</td>\n",
       "      <td>6</td>\n",
       "    </tr>\n",
       "    <tr>\n",
       "      <th>2</th>\n",
       "      <td>27</td>\n",
       "      <td>6</td>\n",
       "      <td>2</td>\n",
       "    </tr>\n",
       "    <tr>\n",
       "      <th>3</th>\n",
       "      <td>19</td>\n",
       "      <td>1</td>\n",
       "      <td>2</td>\n",
       "    </tr>\n",
       "    <tr>\n",
       "      <th>4</th>\n",
       "      <td>24</td>\n",
       "      <td>4</td>\n",
       "      <td>2</td>\n",
       "    </tr>\n",
       "    <tr>\n",
       "      <th>5</th>\n",
       "      <td>22</td>\n",
       "      <td>1</td>\n",
       "      <td>5</td>\n",
       "    </tr>\n",
       "    <tr>\n",
       "      <th>6</th>\n",
       "      <td>15</td>\n",
       "      <td>4</td>\n",
       "      <td>2</td>\n",
       "    </tr>\n",
       "    <tr>\n",
       "      <th>7</th>\n",
       "      <td>18</td>\n",
       "      <td>4</td>\n",
       "      <td>2</td>\n",
       "    </tr>\n",
       "    <tr>\n",
       "      <th>8</th>\n",
       "      <td>21</td>\n",
       "      <td>1</td>\n",
       "      <td>4</td>\n",
       "    </tr>\n",
       "    <tr>\n",
       "      <th>9</th>\n",
       "      <td>16</td>\n",
       "      <td>2</td>\n",
       "      <td>4</td>\n",
       "    </tr>\n",
       "  </tbody>\n",
       "</table>\n",
       "</div>"
      ],
      "text/plain": [
       "   Candies  Mangoes  Milk Packets\n",
       "0       20        6             2\n",
       "1       16        3             6\n",
       "2       27        6             2\n",
       "3       19        1             2\n",
       "4       24        4             2\n",
       "5       22        1             5\n",
       "6       15        4             2\n",
       "7       18        4             2\n",
       "8       21        1             4\n",
       "9       16        2             4"
      ]
     },
     "execution_count": 2,
     "metadata": {},
     "output_type": "execute_result"
    }
   ],
   "source": [
    "df = pd.DataFrame(dat)\n",
    "selected_columns = ['Candies', 'Mangoes','Milk Packets']\n",
    "selected_df = df[selected_columns]\n",
    "selected_df"
   ]
  },
  {
   "cell_type": "code",
   "execution_count": 3,
   "id": "8b0bfe04-c4bf-4807-912a-6db224200c9e",
   "metadata": {},
   "outputs": [
    {
     "data": {
      "text/html": [
       "<div>\n",
       "<style scoped>\n",
       "    .dataframe tbody tr th:only-of-type {\n",
       "        vertical-align: middle;\n",
       "    }\n",
       "\n",
       "    .dataframe tbody tr th {\n",
       "        vertical-align: top;\n",
       "    }\n",
       "\n",
       "    .dataframe thead th {\n",
       "        text-align: right;\n",
       "    }\n",
       "</style>\n",
       "<table border=\"1\" class=\"dataframe\">\n",
       "  <thead>\n",
       "    <tr style=\"text-align: right;\">\n",
       "      <th></th>\n",
       "      <th>Payment</th>\n",
       "    </tr>\n",
       "  </thead>\n",
       "  <tbody>\n",
       "    <tr>\n",
       "      <th>0</th>\n",
       "      <td>386</td>\n",
       "    </tr>\n",
       "    <tr>\n",
       "      <th>1</th>\n",
       "      <td>289</td>\n",
       "    </tr>\n",
       "    <tr>\n",
       "      <th>2</th>\n",
       "      <td>393</td>\n",
       "    </tr>\n",
       "    <tr>\n",
       "      <th>3</th>\n",
       "      <td>110</td>\n",
       "    </tr>\n",
       "    <tr>\n",
       "      <th>4</th>\n",
       "      <td>280</td>\n",
       "    </tr>\n",
       "    <tr>\n",
       "      <th>5</th>\n",
       "      <td>167</td>\n",
       "    </tr>\n",
       "    <tr>\n",
       "      <th>6</th>\n",
       "      <td>271</td>\n",
       "    </tr>\n",
       "    <tr>\n",
       "      <th>7</th>\n",
       "      <td>274</td>\n",
       "    </tr>\n",
       "    <tr>\n",
       "      <th>8</th>\n",
       "      <td>148</td>\n",
       "    </tr>\n",
       "    <tr>\n",
       "      <th>9</th>\n",
       "      <td>198</td>\n",
       "    </tr>\n",
       "  </tbody>\n",
       "</table>\n",
       "</div>"
      ],
      "text/plain": [
       "   Payment\n",
       "0      386\n",
       "1      289\n",
       "2      393\n",
       "3      110\n",
       "4      280\n",
       "5      167\n",
       "6      271\n",
       "7      274\n",
       "8      148\n",
       "9      198"
      ]
     },
     "execution_count": 3,
     "metadata": {},
     "output_type": "execute_result"
    }
   ],
   "source": [
    "df = pd.DataFrame(dat)\n",
    "selected_columns1 = ['Payment']\n",
    "selected_df1 = df[selected_columns1]\n",
    "selected_df1"
   ]
  },
  {
   "cell_type": "code",
   "execution_count": 4,
   "id": "05fcab9e-65be-4608-a148-9111871d3afc",
   "metadata": {},
   "outputs": [
    {
     "data": {
      "text/plain": [
       "array([[20,  6,  2],\n",
       "       [16,  3,  6],\n",
       "       [27,  6,  2],\n",
       "       [19,  1,  2],\n",
       "       [24,  4,  2],\n",
       "       [22,  1,  5],\n",
       "       [15,  4,  2],\n",
       "       [18,  4,  2],\n",
       "       [21,  1,  4],\n",
       "       [16,  2,  4]], dtype=int64)"
      ]
     },
     "execution_count": 4,
     "metadata": {},
     "output_type": "execute_result"
    }
   ],
   "source": [
    "A = selected_df.to_numpy()\n",
    "A"
   ]
  },
  {
   "cell_type": "code",
   "execution_count": 5,
   "id": "2a3db32f-84a4-4d98-bd48-bf0d384746d2",
   "metadata": {},
   "outputs": [
    {
     "data": {
      "text/plain": [
       "array([[386],\n",
       "       [289],\n",
       "       [393],\n",
       "       [110],\n",
       "       [280],\n",
       "       [167],\n",
       "       [271],\n",
       "       [274],\n",
       "       [148],\n",
       "       [198]], dtype=int64)"
      ]
     },
     "execution_count": 5,
     "metadata": {},
     "output_type": "execute_result"
    }
   ],
   "source": [
    "C = selected_df1.to_numpy()\n",
    "C"
   ]
  },
  {
   "cell_type": "code",
   "execution_count": 6,
   "id": "d515f890-7fee-4bdb-a4f7-e826a4dd5007",
   "metadata": {},
   "outputs": [
    {
     "name": "stdout",
     "output_type": "stream",
     "text": [
      "Dimension of the vector space: 3\n"
     ]
    }
   ],
   "source": [
    "import numpy as np\n",
    "num_features = A.shape[1]\n",
    "#What is the dimensionality of the vector space for this data?\n",
    "print(\"Dimension of the vector space:\", num_features)"
   ]
  },
  {
   "cell_type": "code",
   "execution_count": 7,
   "id": "1f8f875e-8560-4713-97f4-bf1c7f2ea6a5",
   "metadata": {},
   "outputs": [
    {
     "name": "stdout",
     "output_type": "stream",
     "text": [
      "Number of vectors: 10\n"
     ]
    }
   ],
   "source": [
    "\n",
    "num_vectors = A.shape[0]\n",
    "#How many vectors exist in this vector space?\n",
    "print(\"Number of vectors:\", num_vectors)"
   ]
  },
  {
   "cell_type": "code",
   "execution_count": 8,
   "id": "959f3bb1-49e4-436b-a95e-4c0baeede1b3",
   "metadata": {
    "scrolled": true
   },
   "outputs": [
    {
     "name": "stdout",
     "output_type": "stream",
     "text": [
      "Row Echelon Form:\n",
      "[[-0.31419211  0.49892601  0.01465039]\n",
      " [-0.25135369  0.07630841  0.77552812]\n",
      " [-0.42415935  0.29691232 -0.28313468]\n",
      " [-0.29848251 -0.36897154 -0.32288052]\n",
      " [-0.37703053  0.02478696 -0.30754116]\n",
      " [-0.34561132 -0.45554884  0.16356567]\n",
      " [-0.23564408  0.28451884  0.07532536]\n",
      " [-0.2827729   0.19794155 -0.05229682]\n",
      " [-0.32990172 -0.42668974  0.00141694]\n",
      " [-0.25135369 -0.10304292  0.29013489]]\n",
      "Rank: 3\n"
     ]
    }
   ],
   "source": [
    "import numpy as np\n",
    "row_echelon, _ = np.linalg.qr(A)\n",
    "\n",
    "# Count the number of non-zero rows to find the rank\n",
    "rank = np.linalg.matrix_rank(row_echelon)\n",
    "#what is the rank of Matrix A?\n",
    "print(\"Row Echelon Form:\")\n",
    "print(row_echelon)\n",
    "print(\"Rank:\", rank)"
   ]
  },
  {
   "cell_type": "code",
   "execution_count": 9,
   "id": "91c64c77-594e-4a39-af0e-65b6ed5c756e",
   "metadata": {},
   "outputs": [
    {
     "name": "stdout",
     "output_type": "stream",
     "text": [
      "Original Matrix:\n",
      "[[20  6  2]\n",
      " [16  3  6]\n",
      " [27  6  2]\n",
      " [19  1  2]\n",
      " [24  4  2]\n",
      " [22  1  5]\n",
      " [15  4  2]\n",
      " [18  4  2]\n",
      " [21  1  4]\n",
      " [16  2  4]]\n",
      "Pseudoinverse:\n",
      "[[-0.01008596 -0.03124505  0.01013951  0.0290728   0.0182907   0.01161794\n",
      "  -0.00771348  0.00095458  0.01743623 -0.00542016]\n",
      " [ 0.09059668  0.07263726  0.03172933 -0.09071908 -0.01893196 -0.06926996\n",
      "   0.05675464  0.03152577 -0.07641966  0.00357352]\n",
      " [ 0.00299878  0.15874243 -0.05795468 -0.06609024 -0.06295043  0.03348017\n",
      "   0.01541831 -0.01070461  0.00029003  0.05938755]]\n"
     ]
    }
   ],
   "source": [
    "pseudo_inverse = np.linalg.pinv(A)\n",
    "#Using Pseudo-Inverse find the cost of each product available for sale. \n",
    "print(\"Original Matrix:\")\n",
    "print(A)\n",
    "print(\"Pseudoinverse:\")\n",
    "print(pseudo_inverse)"
   ]
  },
  {
   "cell_type": "code",
   "execution_count": 10,
   "id": "2562b35e-353a-44d4-9e86-825bf5f975ff",
   "metadata": {},
   "outputs": [
    {
     "name": "stdout",
     "output_type": "stream",
     "text": [
      "Matrix A:\n",
      "[[20  6  2]\n",
      " [16  3  6]\n",
      " [27  6  2]\n",
      " [19  1  2]\n",
      " [24  4  2]\n",
      " [22  1  5]\n",
      " [15  4  2]\n",
      " [18  4  2]\n",
      " [21  1  4]\n",
      " [16  2  4]]\n",
      "Matrix C:\n",
      "[[386]\n",
      " [289]\n",
      " [393]\n",
      " [110]\n",
      " [280]\n",
      " [167]\n",
      " [271]\n",
      " [274]\n",
      " [148]\n",
      " [198]]\n",
      "Model Vector X:\n",
      "[[ 1.]\n",
      " [55.]\n",
      " [18.]]\n"
     ]
    }
   ],
   "source": [
    "#Use the Pseudo-inverse to calculate the model vector X for predicting the cost of the products available with the vendor.\n",
    "X = np.dot(pseudo_inverse, C)\n",
    "print(\"Matrix A:\")\n",
    "print(A)\n",
    "print(\"Matrix C:\")\n",
    "print(C)\n",
    "print(\"Model Vector X:\")\n",
    "print(X)"
   ]
  },
  {
   "cell_type": "code",
   "execution_count": 11,
   "id": "e8d1321f-30e6-4bb4-854f-c73853336fca",
   "metadata": {},
   "outputs": [
    {
     "name": "stdout",
     "output_type": "stream",
     "text": [
      "  Customer  Candies  Mangoes  Milk Packets  Payment Purchase Category\n",
      "0      C_1       20        6             2      386              Rich\n",
      "1      C_2       16        3             6      289              Rich\n",
      "2      C_3       27        6             2      393              Rich\n",
      "3      C_4       19        1             2      110              Poor\n",
      "4      C_5       24        4             2      280              Rich\n",
      "5      C_6       22        1             5      167              Poor\n",
      "6      C_7       15        4             2      271              Rich\n",
      "7      C_8       18        4             2      274              Rich\n",
      "8      C_9       21        1             4      148              Poor\n",
      "9     C_10       16        2             4      198              Poor\n"
     ]
    }
   ],
   "source": [
    "#Mark all customers(in “Purchase Data” table)with paymentsabove Rs. 200 as RICH and others as POOR. \n",
    "#Develop a classifier model to categorize customers into RICH or POOR class based on purchase behavior.\n",
    "dat['Purchase Category'] = dat['Payment'].apply(lambda x: 'Rich' if x > 200 else 'Poor')\n",
    "print(dat)"
   ]
  },
  {
   "cell_type": "code",
   "execution_count": 12,
   "id": "3129e535-d006-421b-b573-428135cf2e10",
   "metadata": {},
   "outputs": [
    {
     "name": "stdout",
     "output_type": "stream",
     "text": [
      "Accuracy: 1.0\n",
      "New customer is: POOR\n"
     ]
    },
    {
     "name": "stderr",
     "output_type": "stream",
     "text": [
      "C:\\Users\\SNS\\AppData\\Roaming\\Python\\Python311\\site-packages\\sklearn\\base.py:464: UserWarning: X does not have valid feature names, but DecisionTreeClassifier was fitted with feature names\n",
      "  warnings.warn(\n"
     ]
    }
   ],
   "source": [
    "from sklearn.model_selection import train_test_split\n",
    "from sklearn.ensemble import RandomForestClassifier\n",
    "from sklearn.metrics import classification_report, confusion_matrix\n",
    "from sklearn.tree import DecisionTreeClassifier\n",
    "dat['Category'] =dat['Payment'].apply(lambda x: 'RICH' if x > 200 else 'POOR')\n",
    "\n",
    "Y= dat.iloc[:,1:4]\n",
    "Z= dat['Category']\n",
    "\n",
    "Y_train, Y_test, Z_train, Z_test = train_test_split(Y,Z,test_size=0.25,random_state=0)\n",
    "classifier = DecisionTreeClassifier()\n",
    "classifier.fit(Y_train,Z_train)\n",
    "\n",
    "print(f'Accuracy: {classifier.score(Y_test,Z_test)}')\n",
    "\n",
    "new_customer = [[1,1,1]]\n",
    "result= classifier.predict(new_customer)\n",
    "print(f'New customer is: {result[0]}')"
   ]
  },
  {
   "cell_type": "code",
   "execution_count": 13,
   "id": "0df7eaaa-c9a9-4092-9525-5e8d80b7a4da",
   "metadata": {},
   "outputs": [
    {
     "name": "stdout",
     "output_type": "stream",
     "text": [
      "Mean Price: 1560.663453815261\n",
      "Variance of Price: 58732.365352539186\n"
     ]
    }
   ],
   "source": [
    "import pandas as pd\n",
    "import statistics\n",
    "\n",
    "data = pd.read_excel(\"data.xlsx\", sheet_name=\"IRCTC Stock Price\")\n",
    "\n",
    "price_mean = statistics.mean(data[\"Price\"])\n",
    "price_variance = statistics.variance(data[\"Price\"])\n",
    "\n",
    "print(\"Mean Price:\", price_mean)\n",
    "print(\"Variance of Price:\", price_variance)\n",
    "#Calculate the mean and variance of the Price data present in column D."
   ]
  },
  {
   "cell_type": "code",
   "execution_count": 14,
   "id": "5d741711",
   "metadata": {},
   "outputs": [
    {
     "name": "stdout",
     "output_type": "stream",
     "text": [
      "Sample_mean_wednesday= 1550.706\n"
     ]
    }
   ],
   "source": [
    "#Select the price data for all Wednesdays and calculate the sample mean. Compare the mean with the population mean and note your observations.\n",
    "wednesday_data = data[data[\"Day\"] == \"Wed\"]\n",
    "sample_mean_wednesday = statistics.mean(wednesday_data[\"Price\"])\n",
    "print(\"Sample_mean_wednesday=\",sample_mean_wednesday)\n"
   ]
  },
  {
   "cell_type": "code",
   "execution_count": 15,
   "id": "9f169373",
   "metadata": {},
   "outputs": [
    {
     "name": "stdout",
     "output_type": "stream",
     "text": [
      "sample_mean_april= 1698.9526315789474\n"
     ]
    }
   ],
   "source": [
    "#Select the price data for the month of Apr and calculate the sample mean. Compare the mean with the population mean and note your observations.\n",
    "april_data = data[data[\"Month\"] == \"Apr\"]\n",
    "sample_mean_april = statistics.mean(april_data[\"Price\"])\n",
    "print(\"sample_mean_april=\",sample_mean_april)\n"
   ]
  },
  {
   "cell_type": "code",
   "execution_count": 16,
   "id": "11c976e5",
   "metadata": {},
   "outputs": [
    {
     "name": "stdout",
     "output_type": "stream",
     "text": [
      "loss_probability= 0.4979919678714859\n"
     ]
    }
   ],
   "source": [
    "#From the Chg% (available in column I) find the probability of making a loss over the stock.\n",
    "loss_probability = len(data[data[\"Chg%\"] < 0]) / len(data)\n",
    "print(\"loss_probability=\",loss_probability)"
   ]
  },
  {
   "cell_type": "code",
   "execution_count": 17,
   "id": "704ee84c",
   "metadata": {},
   "outputs": [
    {
     "name": "stdout",
     "output_type": "stream",
     "text": [
      "profit_probability_wednesday= 0.42\n"
     ]
    }
   ],
   "source": [
    "profit_probability_wednesday = len(wednesday_data[wednesday_data[\"Chg%\"] > 0]) / len(wednesday_data)\n",
    "print(\"profit_probability_wednesday=\",profit_probability_wednesday)"
   ]
  },
  {
   "cell_type": "code",
   "execution_count": 18,
   "id": "68f8531b",
   "metadata": {},
   "outputs": [
    {
     "name": "stdout",
     "output_type": "stream",
     "text": [
      "conditional_prob= 0.42\n"
     ]
    }
   ],
   "source": [
    "conditional_prob = len(wednesday_data[(wednesday_data[\"Chg%\"] > 0)]) / len(wednesday_data)\n",
    "print(\"conditional_prob=\",conditional_prob)"
   ]
  },
  {
   "cell_type": "code",
   "execution_count": 19,
   "id": "a7769419",
   "metadata": {},
   "outputs": [
    {
     "data": {
      "image/png": "[encoded data removed]",
      "text/plain": [
       "<Figure size 640x480 with 1 Axes>"
      ]
     },
     "metadata": {},
     "output_type": "display_data"
    }
   ],
   "source": [
    "import matplotlib.pyplot as plt\n",
    "days = [\"Mon\", \"Tue\", \"Wed\", \"Thu\", \"Fri\"]\n",
    "data[\"DayNumber\"] = data[\"Day\"].apply(lambda x: days.index(x))\n",
    "plt.scatter(data[\"DayNumber\"], data[\"Chg%\"])\n",
    "plt.xticks(range(5), days)\n",
    "plt.xlabel(\"Day of the Week\")\n",
    "plt.ylabel(\"Chg%\")\n",
    "plt.title(\"Chg% vs. Day of the Week\")\n",
    "plt.show()"
   ]
  }
 ],
 "metadata": {
  "kernelspec": {
   "display_name": "Python 3 (ipykernel)",
   "language": "python",
   "name": "python3"
  },
  "language_info": {
   "codemirror_mode": {
    "name": "ipython",
    "version": 3
   },
   "file_extension": ".py",
   "mimetype": "text/x-python",
   "name": "python",
   "nbconvert_exporter": "python",
   "pygments_lexer": "ipython3",
   "version": "3.11.3"
  }
 },
 "nbformat": 4,
 "nbformat_minor": 5
}
