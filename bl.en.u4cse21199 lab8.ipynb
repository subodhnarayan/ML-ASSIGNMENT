{
 "cells": [
  {
   "cell_type": "raw",
   "id": "d994e733-53f5-4b49-b8d9-1cafa80c026a",
   "metadata": {},
   "source": [
    "Name:Subodh Narayan Sah\n",
    "Reg No:-BL.EN.U4CSE21199\n",
    "Lab: 08"
   ]
  },
  {
   "cell_type": "raw",
   "id": "06e14a37-9abe-4747-9dfa-de85dce02b50",
   "metadata": {},
   "source": [
    "A1. For the data provided below, calculate the prior probability for each class. "
   ]
  },
  {
   "cell_type": "code",
   "execution_count": 3,
   "id": "78bd8909-da65-4665-a1ce-8335773a8339",
   "metadata": {},
   "outputs": [
    {
     "data": {
      "text/html": [
       "<div>\n",
       "<style scoped>\n",
       "    .dataframe tbody tr th:only-of-type {\n",
       "        vertical-align: middle;\n",
       "    }\n",
       "\n",
       "    .dataframe tbody tr th {\n",
       "        vertical-align: top;\n",
       "    }\n",
       "\n",
       "    .dataframe thead th {\n",
       "        text-align: right;\n",
       "    }\n",
       "</style>\n",
       "<table border=\"1\" class=\"dataframe\">\n",
       "  <thead>\n",
       "    <tr style=\"text-align: right;\">\n",
       "      <th></th>\n",
       "      <th>age</th>\n",
       "      <th>income</th>\n",
       "      <th>student</th>\n",
       "      <th>credit_rating</th>\n",
       "      <th>buys_computer</th>\n",
       "    </tr>\n",
       "  </thead>\n",
       "  <tbody>\n",
       "    <tr>\n",
       "      <th>0</th>\n",
       "      <td>&lt;=30</td>\n",
       "      <td>high</td>\n",
       "      <td>no</td>\n",
       "      <td>fair</td>\n",
       "      <td>no</td>\n",
       "    </tr>\n",
       "    <tr>\n",
       "      <th>1</th>\n",
       "      <td>&lt;=30</td>\n",
       "      <td>high</td>\n",
       "      <td>no</td>\n",
       "      <td>excellent</td>\n",
       "      <td>no</td>\n",
       "    </tr>\n",
       "    <tr>\n",
       "      <th>2</th>\n",
       "      <td>31...40</td>\n",
       "      <td>high</td>\n",
       "      <td>no</td>\n",
       "      <td>fair</td>\n",
       "      <td>yes</td>\n",
       "    </tr>\n",
       "    <tr>\n",
       "      <th>3</th>\n",
       "      <td>&gt;40</td>\n",
       "      <td>medium</td>\n",
       "      <td>no</td>\n",
       "      <td>fair</td>\n",
       "      <td>yes</td>\n",
       "    </tr>\n",
       "    <tr>\n",
       "      <th>4</th>\n",
       "      <td>&gt;40</td>\n",
       "      <td>low</td>\n",
       "      <td>yes</td>\n",
       "      <td>fair</td>\n",
       "      <td>yes</td>\n",
       "    </tr>\n",
       "    <tr>\n",
       "      <th>5</th>\n",
       "      <td>&gt;40</td>\n",
       "      <td>low</td>\n",
       "      <td>yes</td>\n",
       "      <td>excellent</td>\n",
       "      <td>no</td>\n",
       "    </tr>\n",
       "    <tr>\n",
       "      <th>6</th>\n",
       "      <td>31...40</td>\n",
       "      <td>low</td>\n",
       "      <td>yes</td>\n",
       "      <td>excellent</td>\n",
       "      <td>yes</td>\n",
       "    </tr>\n",
       "    <tr>\n",
       "      <th>7</th>\n",
       "      <td>&lt;=30</td>\n",
       "      <td>medium</td>\n",
       "      <td>no</td>\n",
       "      <td>fair</td>\n",
       "      <td>no</td>\n",
       "    </tr>\n",
       "    <tr>\n",
       "      <th>8</th>\n",
       "      <td>&lt;=30</td>\n",
       "      <td>low</td>\n",
       "      <td>yes</td>\n",
       "      <td>fair</td>\n",
       "      <td>yes</td>\n",
       "    </tr>\n",
       "    <tr>\n",
       "      <th>9</th>\n",
       "      <td>&gt;40</td>\n",
       "      <td>medium</td>\n",
       "      <td>yes</td>\n",
       "      <td>fair</td>\n",
       "      <td>yes</td>\n",
       "    </tr>\n",
       "    <tr>\n",
       "      <th>10</th>\n",
       "      <td>&lt;=30</td>\n",
       "      <td>medium</td>\n",
       "      <td>yes</td>\n",
       "      <td>excellent</td>\n",
       "      <td>yes</td>\n",
       "    </tr>\n",
       "    <tr>\n",
       "      <th>11</th>\n",
       "      <td>31...40</td>\n",
       "      <td>medium</td>\n",
       "      <td>no</td>\n",
       "      <td>excellent</td>\n",
       "      <td>yes</td>\n",
       "    </tr>\n",
       "    <tr>\n",
       "      <th>12</th>\n",
       "      <td>31...40</td>\n",
       "      <td>high</td>\n",
       "      <td>yes</td>\n",
       "      <td>fair</td>\n",
       "      <td>yes</td>\n",
       "    </tr>\n",
       "    <tr>\n",
       "      <th>13</th>\n",
       "      <td>&gt;40</td>\n",
       "      <td>medium</td>\n",
       "      <td>no</td>\n",
       "      <td>excellent</td>\n",
       "      <td>no</td>\n",
       "    </tr>\n",
       "  </tbody>\n",
       "</table>\n",
       "</div>"
      ],
      "text/plain": [
       "        age  income student credit_rating buys_computer\n",
       "0      <=30    high      no          fair            no\n",
       "1      <=30    high      no     excellent            no\n",
       "2   31...40    high      no          fair           yes\n",
       "3       >40  medium      no          fair           yes\n",
       "4       >40     low     yes          fair           yes\n",
       "5       >40     low     yes     excellent            no\n",
       "6   31...40     low     yes     excellent           yes\n",
       "7      <=30  medium      no          fair            no\n",
       "8      <=30     low     yes          fair           yes\n",
       "9       >40  medium     yes          fair           yes\n",
       "10     <=30  medium     yes     excellent           yes\n",
       "11  31...40  medium      no     excellent           yes\n",
       "12  31...40    high     yes          fair           yes\n",
       "13      >40  medium      no     excellent            no"
      ]
     },
     "execution_count": 3,
     "metadata": {},
     "output_type": "execute_result"
    }
   ],
   "source": [
    "import pandas as pd\n",
    "import numpy as np\n",
    "data=[[\"<=30\",\"high\",\"no\",\"fair\",\"no\"],\n",
    "      [\"<=30\",\"high\",\"no\",\"excellent\",\"no\"],\n",
    "       [\"31...40\",\"high\",\"no\",\"fair\",\"yes\"],\n",
    "       [\">40\",\"medium\",\"no\",\"fair\",\"yes\"],\n",
    "      [\">40\",\"low\",\"yes\",\"fair\",\"yes\"],\n",
    "      [\">40\",\"low\",\"yes\",\"excellent\",\"no\"],\n",
    "      [\"31...40\",\"low\",\"yes\",\"excellent\",\"yes\"],\n",
    "      [\"<=30\",\"medium\",\"no\",\"fair\",\"no\"],\n",
    "       [\"<=30\",\"low\",\"yes\",\"fair\",\"yes\"],\n",
    "       [\">40\",\"medium\",\"yes\",\"fair\",\"yes\"],\n",
    "      [\"<=30\",\"medium\",\"yes\",\"excellent\",\"yes\"],\n",
    "      [\"31...40\",\"medium\",\"no\",\"excellent\",\"yes\"],\n",
    "       [\"31...40\",\"high\",\"yes\",\"fair\",\"yes\"],\n",
    "      [\">40\",\"medium\",\"no\",\"excellent\",\"no\"]   \n",
    "     ]\n",
    "columnname=[\"age\",\"income\",\"student\",\"credit_rating\",\"buys_computer\"]\n",
    "df=pd.DataFrame(data,columns=columnname)\n",
    "df"
   ]
  },
  {
   "cell_type": "code",
   "execution_count": 4,
   "id": "eb3e05e2-8df6-4847-be93-ad5efd07fdd6",
   "metadata": {},
   "outputs": [
    {
     "name": "stdout",
     "output_type": "stream",
     "text": [
      "buys_computer\n",
      "yes    0.642857\n",
      "no     0.357143\n",
      "Name: count, dtype: float64\n"
     ]
    }
   ],
   "source": [
    "# Count occurrences of each class in 'buys_computer' column\n",
    "class_counts = df['buys_computer'].value_counts()\n",
    "\n",
    "# Calculate the prior probability for each class\n",
    "total_instances = len(df)\n",
    "prior_probabilities = class_counts / total_instances\n",
    "\n",
    "print(prior_probabilities)"
   ]
  },
  {
   "cell_type": "raw",
   "id": "21afdeac-90a9-43bf-8916-7d048190dbee",
   "metadata": {},
   "source": [
    "A2. Calculate the class conditional densities for various features & classes. Observe if any class \n",
    "conditional density has zero values. "
   ]
  },
  {
   "cell_type": "code",
   "execution_count": 5,
   "id": "06b79904-9612-4e0a-9f3c-29797406511b",
   "metadata": {},
   "outputs": [
    {
     "name": "stdout",
     "output_type": "stream",
     "text": [
      "Class conditional densities for feature 'age':\n",
      "Value: <=30\n",
      "Class 'no' Density: 0.6\n",
      "Class 'yes' Density: 0.2222222222222222\n",
      "Value: 31...40\n",
      "Class 'no' Density: 0.0\n",
      "Class 'yes' Density: 0.4444444444444444\n",
      "Value: >40\n",
      "Class 'no' Density: 0.4\n",
      "Class 'yes' Density: 0.3333333333333333\n",
      "Class conditional densities for feature 'income':\n",
      "Value: high\n",
      "Class 'no' Density: 0.4\n",
      "Class 'yes' Density: 0.2222222222222222\n",
      "Value: medium\n",
      "Class 'no' Density: 0.4\n",
      "Class 'yes' Density: 0.4444444444444444\n",
      "Value: low\n",
      "Class 'no' Density: 0.2\n",
      "Class 'yes' Density: 0.3333333333333333\n",
      "Class conditional densities for feature 'student':\n",
      "Value: no\n",
      "Class 'no' Density: 0.8\n",
      "Class 'yes' Density: 0.3333333333333333\n",
      "Value: yes\n",
      "Class 'no' Density: 0.2\n",
      "Class 'yes' Density: 0.6666666666666666\n",
      "Class conditional densities for feature 'credit_rating':\n",
      "Value: fair\n",
      "Class 'no' Density: 0.4\n",
      "Class 'yes' Density: 0.6666666666666666\n",
      "Value: excellent\n",
      "Class 'no' Density: 0.6\n",
      "Class 'yes' Density: 0.3333333333333333\n"
     ]
    }
   ],
   "source": [
    "columnname = [\"age\", \"income\", \"student\", \"credit_rating\", \"buys_computer\"]\n",
    "\n",
    "df = pd.DataFrame(data, columns=columnname)\n",
    "\n",
    "# Calculate class conditional densities for each feature and class\n",
    "for column in df.columns[:-1]:  # Exclude the last column which is the target variable\n",
    "    print(f\"Class conditional densities for feature '{column}':\")\n",
    "    for value in df[column].unique():\n",
    "        print(f\"Value: {value}\")\n",
    "        for class_value in df['buys_computer'].unique():\n",
    "            subset = df[df['buys_computer'] == class_value]\n",
    "            count = subset[subset[column] == value].shape[0]\n",
    "            total_count = subset.shape[0]\n",
    "            density = count / total_count if total_count > 0 else 0\n",
    "            print(f\"Class '{class_value}' Density: {density}\")"
   ]
  },
  {
   "cell_type": "raw",
   "id": "7a4d01aa-cfb1-4fc2-8b6f-4d1ff8904421",
   "metadata": {},
   "source": [
    "A3. Test for independence between the 4 given features. "
   ]
  },
  {
   "cell_type": "code",
   "execution_count": 6,
   "id": "a799bace-3885-4fb1-b06c-77f386a7011d",
   "metadata": {},
   "outputs": [
    {
     "name": "stdout",
     "output_type": "stream",
     "text": [
      "Chi-squared statistic: 12.95\n",
      "P-value: 0.6764100579553458\n"
     ]
    }
   ],
   "source": [
    "from scipy.stats import chi2_contingency\n",
    "import pandas as pd\n",
    "\n",
    "\n",
    "# Selecting only the four specified features\n",
    "selected_features = [\"age\", \"income\", \"student\", \"credit_rating\"]\n",
    "selected_df = df[selected_features]\n",
    "\n",
    "# Perform chi-squared test for independence\n",
    "chi2, p, dof, expected = chi2_contingency(pd.crosstab(selected_df['age'], [selected_df['income'], selected_df['student'], selected_df['credit_rating']]))\n",
    "\n",
    "print(f\"Chi-squared statistic: {chi2}\")\n",
    "print(f\"P-value: {p}\")\n"
   ]
  },
  {
   "cell_type": "raw",
   "id": "6b7d4ab1-e464-49c9-882a-08e15ef1874a",
   "metadata": {},
   "source": [
    "A4. Build a Naïve-Bayes (NB) classifier for the above given data. Below code for help.\n",
    "from sklearn.naive_bayes import GaussianNB\n",
    "model = GaussianNB()\n",
    "model.fit(Tr_X,Tr_y)"
   ]
  },
  {
   "cell_type": "code",
   "execution_count": 7,
   "id": "dc2f95ff-b6af-4da4-b0e1-137a680979cf",
   "metadata": {},
   "outputs": [
    {
     "data": {
      "text/html": [
       "<style>#sk-container-id-1 {color: black;}#sk-container-id-1 pre{padding: 0;}#sk-container-id-1 div.sk-toggleable {background-color: white;}#sk-container-id-1 label.sk-toggleable__label {cursor: pointer;display: block;width: 100%;margin-bottom: 0;padding: 0.3em;box-sizing: border-box;text-align: center;}#sk-container-id-1 label.sk-toggleable__label-arrow:before {content: \"▸\";float: left;margin-right: 0.25em;color: #696969;}#sk-container-id-1 label.sk-toggleable__label-arrow:hover:before {color: black;}#sk-container-id-1 div.sk-estimator:hover label.sk-toggleable__label-arrow:before {color: black;}#sk-container-id-1 div.sk-toggleable__content {max-height: 0;max-width: 0;overflow: hidden;text-align: left;background-color: #f0f8ff;}#sk-container-id-1 div.sk-toggleable__content pre {margin: 0.2em;color: black;border-radius: 0.25em;background-color: #f0f8ff;}#sk-container-id-1 input.sk-toggleable__control:checked~div.sk-toggleable__content {max-height: 200px;max-width: 100%;overflow: auto;}#sk-container-id-1 input.sk-toggleable__control:checked~label.sk-toggleable__label-arrow:before {content: \"▾\";}#sk-container-id-1 div.sk-estimator input.sk-toggleable__control:checked~label.sk-toggleable__label {background-color: #d4ebff;}#sk-container-id-1 div.sk-label input.sk-toggleable__control:checked~label.sk-toggleable__label {background-color: #d4ebff;}#sk-container-id-1 input.sk-hidden--visually {border: 0;clip: rect(1px 1px 1px 1px);clip: rect(1px, 1px, 1px, 1px);height: 1px;margin: -1px;overflow: hidden;padding: 0;position: absolute;width: 1px;}#sk-container-id-1 div.sk-estimator {font-family: monospace;background-color: #f0f8ff;border: 1px dotted black;border-radius: 0.25em;box-sizing: border-box;margin-bottom: 0.5em;}#sk-container-id-1 div.sk-estimator:hover {background-color: #d4ebff;}#sk-container-id-1 div.sk-parallel-item::after {content: \"\";width: 100%;border-bottom: 1px solid gray;flex-grow: 1;}#sk-container-id-1 div.sk-label:hover label.sk-toggleable__label {background-color: #d4ebff;}#sk-container-id-1 div.sk-serial::before {content: \"\";position: absolute;border-left: 1px solid gray;box-sizing: border-box;top: 0;bottom: 0;left: 50%;z-index: 0;}#sk-container-id-1 div.sk-serial {display: flex;flex-direction: column;align-items: center;background-color: white;padding-right: 0.2em;padding-left: 0.2em;position: relative;}#sk-container-id-1 div.sk-item {position: relative;z-index: 1;}#sk-container-id-1 div.sk-parallel {display: flex;align-items: stretch;justify-content: center;background-color: white;position: relative;}#sk-container-id-1 div.sk-item::before, #sk-container-id-1 div.sk-parallel-item::before {content: \"\";position: absolute;border-left: 1px solid gray;box-sizing: border-box;top: 0;bottom: 0;left: 50%;z-index: -1;}#sk-container-id-1 div.sk-parallel-item {display: flex;flex-direction: column;z-index: 1;position: relative;background-color: white;}#sk-container-id-1 div.sk-parallel-item:first-child::after {align-self: flex-end;width: 50%;}#sk-container-id-1 div.sk-parallel-item:last-child::after {align-self: flex-start;width: 50%;}#sk-container-id-1 div.sk-parallel-item:only-child::after {width: 0;}#sk-container-id-1 div.sk-dashed-wrapped {border: 1px dashed gray;margin: 0 0.4em 0.5em 0.4em;box-sizing: border-box;padding-bottom: 0.4em;background-color: white;}#sk-container-id-1 div.sk-label label {font-family: monospace;font-weight: bold;display: inline-block;line-height: 1.2em;}#sk-container-id-1 div.sk-label-container {text-align: center;}#sk-container-id-1 div.sk-container {/* jupyter's `normalize.less` sets `[hidden] { display: none; }` but bootstrap.min.css set `[hidden] { display: none !important; }` so we also need the `!important` here to be able to override the default hidden behavior on the sphinx rendered scikit-learn.org. See: https://github.com/scikit-learn/scikit-learn/issues/21755 */display: inline-block !important;position: relative;}#sk-container-id-1 div.sk-text-repr-fallback {display: none;}</style><div id=\"sk-container-id-1\" class=\"sk-top-container\"><div class=\"sk-text-repr-fallback\"><pre>GaussianNB()</pre><b>In a Jupyter environment, please rerun this cell to show the HTML representation or trust the notebook. <br />On GitHub, the HTML representation is unable to render, please try loading this page with nbviewer.org.</b></div><div class=\"sk-container\" hidden><div class=\"sk-item\"><div class=\"sk-estimator sk-toggleable\"><input class=\"sk-toggleable__control sk-hidden--visually\" id=\"sk-estimator-id-1\" type=\"checkbox\" checked><label for=\"sk-estimator-id-1\" class=\"sk-toggleable__label sk-toggleable__label-arrow\">GaussianNB</label><div class=\"sk-toggleable__content\"><pre>GaussianNB()</pre></div></div></div></div></div>"
      ],
      "text/plain": [
       "GaussianNB()"
      ]
     },
     "execution_count": 7,
     "metadata": {},
     "output_type": "execute_result"
    }
   ],
   "source": [
    "from sklearn.naive_bayes import GaussianNB\n",
    "from sklearn.preprocessing import LabelEncoder\n",
    "\n",
    "# Encoding categorical variables\n",
    "encoder = LabelEncoder()\n",
    "for col in df.columns:\n",
    "    df[col] = encoder.fit_transform(df[col])\n",
    "\n",
    "# Separating features and target variable\n",
    "features = df.drop('buys_computer', axis=1)\n",
    "target = df['buys_computer']\n",
    "\n",
    "# Initialize Gaussian Naive Bayes model\n",
    "model = GaussianNB()\n",
    "\n",
    "# Fit the model with training data\n",
    "model.fit(features, target)\n"
   ]
  },
  {
   "cell_type": "code",
   "execution_count": 20,
   "id": "2eca9966-6875-4ac8-8470-fc4b017fa5d4",
   "metadata": {},
   "outputs": [
    {
     "name": "stdout",
     "output_type": "stream",
     "text": [
      "Accuracy: 0.3333333333333333\n",
      "Classification Report:\n",
      "              precision    recall  f1-score   support\n",
      "\n",
      "          no       0.00      0.00      0.00         1\n",
      "         yes       0.50      0.50      0.50         2\n",
      "\n",
      "    accuracy                           0.33         3\n",
      "   macro avg       0.25      0.25      0.25         3\n",
      "weighted avg       0.33      0.33      0.33         3\n",
      "\n"
     ]
    }
   ],
   "source": [
    "from sklearn.model_selection import train_test_split\n",
    "from sklearn.naive_bayes import GaussianNB\n",
    "from sklearn.metrics import accuracy_score, classification_report\n",
    "\n",
    "\n",
    "# Separating features and target variable\n",
    "X = df.drop('buys_computer', axis=1)\n",
    "y = df['buys_computer']\n",
    "\n",
    "# Encoding categorical variables if necessary\n",
    "X = pd.get_dummies(X)\n",
    "\n",
    "# Splitting the data into training and testing sets\n",
    "X_train, X_test, y_train, y_test = train_test_split(X, y, test_size=0.2, random_state=42)\n",
    "\n",
    "# Initialize Gaussian Naive Bayes model\n",
    "model = GaussianNB()\n",
    "\n",
    "# Fit the model with training data\n",
    "model.fit(X_train, y_train)\n",
    "\n",
    "# Predict on the test set\n",
    "predictions = model.predict(X_test)\n",
    "\n",
    "# Evaluate the model\n",
    "accuracy = accuracy_score(y_test, predictions)\n",
    "print(f\"Accuracy: {accuracy}\")\n",
    "\n",
    "report = classification_report(y_test, predictions)\n",
    "print(\"Classification Report:\")\n",
    "print(report)\n",
    "\n"
   ]
  },
  {
   "cell_type": "raw",
   "id": "01a2b4fe-34b3-4034-a355-5dc346f2d541",
   "metadata": {},
   "source": [
    "5. Build a NB classifier for your own project data"
   ]
  },
  {
   "cell_type": "code",
   "execution_count": 26,
   "id": "0ace98a9-afb7-4cd9-8c7f-c634e55a81e6",
   "metadata": {},
   "outputs": [],
   "source": [
    "import pandas as pd\n",
    "from sklearn.model_selection import train_test_split\n",
    "from sklearn.naive_bayes import GaussianNB\n",
    "from sklearn import preprocessing\n",
    "\n",
    "\n",
    "data=pd.read_csv(\"SolarPrediction.csv\")\n",
    "\n",
    "# Selecting relevant columns for features and target\n",
    "features = data[['Temperature', 'Pressure', 'Humidity', 'WindDirection(Degrees)', 'Speed']]\n",
    "target = data['Radiation']\n",
    "\n",
    "quartiles = target.quantile([0.25, 0.5, 0.75])\n",
    "\n",
    "# Define thresholds based on quartiles\n",
    "low_threshold = quartiles[0.25]\n",
    "high_threshold = quartiles[0.75]\n",
    "\n",
    "# Function to categorize radiation levels\n",
    "def categorize_radiation(radiation):\n",
    "    if radiation <= low_threshold:\n",
    "        return 'Low'\n",
    "    elif radiation <= high_threshold:\n",
    "        return 'Moderate'\n",
    "    else:\n",
    "        return 'High'\n",
    "\n",
    "# Apply categorization function to create labels\n",
    "data['Radiation_Category'] = target.apply(categorize_radiation)\n",
    "\n",
    "# Separate features and newly created target categories\n",
    "features = data[['Temperature', 'Pressure', 'Humidity', 'WindDirection(Degrees)', 'Speed']]\n",
    "target_categories = data['Radiation_Category']\n",
    "\n",
    "# Splitting the data into training and testing sets\n",
    "X_train, X_test, y_train, y_test = train_test_split(features, target_categories, test_size=0.2, random_state=42)\n",
    "\n",
    "\n",
    "# Initialize Gaussian Naive Bayes model\n",
    "model = GaussianNB()\n",
    "\n",
    "# Fit the model with training data\n",
    "model.fit(X_train, y_train)\n",
    "\n",
    "# Predict on the test set\n",
    "predictions = model.predict(X_test)\n",
    "\n"
   ]
  },
  {
   "cell_type": "code",
   "execution_count": 25,
   "id": "94e74124-d9d2-488c-9315-0596d4da55cf",
   "metadata": {},
   "outputs": [
    {
     "name": "stdout",
     "output_type": "stream",
     "text": [
      "Accuracy: 0.6394921994493729\n",
      "Classification Report:\n",
      "              precision    recall  f1-score   support\n",
      "\n",
      "        High       0.74      0.74      0.74      1570\n",
      "         Low       0.58      0.69      0.63      1946\n",
      "    Moderate       0.64      0.55      0.59      3022\n",
      "\n",
      "    accuracy                           0.64      6538\n",
      "   macro avg       0.65      0.66      0.65      6538\n",
      "weighted avg       0.64      0.64      0.64      6538\n",
      "\n"
     ]
    }
   ],
   "source": [
    "model.fit(X_train, y_train)\n",
    "\n",
    "# Predict on the test set\n",
    "predictions = model.predict(X_test)\n",
    "\n",
    "# Evaluate the model\n",
    "accuracy = accuracy_score(y_test, predictions)\n",
    "print(f\"Accuracy: {accuracy}\")\n",
    "\n",
    "report = classification_report(y_test, predictions)\n",
    "print(\"Classification Report:\")\n",
    "print(report)"
   ]
  },
  {
   "cell_type": "code",
   "execution_count": null,
   "id": "6814aaeb-a4b5-48bf-8a6d-f33219bb4b5c",
   "metadata": {},
   "outputs": [],
   "source": []
  }
 ],
 "metadata": {
  "kernelspec": {
   "display_name": "Python 3 (ipykernel)",
   "language": "python",
   "name": "python3"
  },
  "language_info": {
   "codemirror_mode": {
    "name": "ipython",
    "version": 3
   },
   "file_extension": ".py",
   "mimetype": "text/x-python",
   "name": "python",
   "nbconvert_exporter": "python",
   "pygments_lexer": "ipython3",
   "version": "3.11.3"
  }
 },
 "nbformat": 4,
 "nbformat_minor": 5
}
